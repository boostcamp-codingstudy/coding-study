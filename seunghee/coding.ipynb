{
 "cells": [
  {
   "cell_type": "code",
   "execution_count": null,
   "metadata": {},
   "outputs": [],
   "source": [
    "[[1, ~ N],\n",
    " [1, ~ N]]\n",
    "\n",
    "n \n",
    "n = 1 -> 2\n",
    "ㅁ , ㅁ , ㅁ , ㅁ\n",
    "ㅁ , ㅁ , ㅁ , ㅁ\n",
    "\n",
    "dp = []\n",
    "dp[1] = 3  #   없없, 없있, 있없\n",
    "dp[2] = 5 dp[1] 3 + 2*1  +2 *1   # 없없-없없,            없있,    있없      / 없있-있없, 있없-없있\n",
    "dp[3] = dp[1] * (3 + 1+1) 15 # 없없-없없-dp[2], 없없-없있-있없,  없없-있없-없있, 없있-있없,"
   ]
  },
  {
   "cell_type": "code",
   "execution_count": 3,
   "metadata": {},
   "outputs": [
    {
     "data": {
      "text/plain": [
       "{3}"
      ]
     },
     "execution_count": 3,
     "metadata": {},
     "output_type": "execute_result"
    }
   ],
   "source": [
    "set((1,2,3)) - set((1,2)) = "
   ]
  },
  {
   "cell_type": "code",
   "execution_count": 4,
   "metadata": {},
   "outputs": [
    {
     "data": {
      "text/plain": [
       "15"
      ]
     },
     "execution_count": 4,
     "metadata": {},
     "output_type": "execute_result"
    }
   ],
   "source": [
    "dp[1] = 3 없없, 없있, 있없\n",
    "dp[2] = 1 + 2 * 1 + 2 * 1 없없-없없, 없있, 있없 3, 없있-1, 있없-1\n",
    "dp[3] = 1 + 2 * 1 ~없없  * 3 + \n"
   ]
  },
  {
   "cell_type": "code",
   "execution_count": null,
   "metadata": {},
   "outputs": [],
   "source": [
    "3 = 사자0*1 + 사자1*2\n",
    "3+2 = 5 사자0*1 사자1*4 사자2*2\n",
    "3+2*2 = 7 사자0*1 사자1*6 사자2*(6*5/2 - ) + 사자3* 2\n",
    "3+2*2*2 = 11"
   ]
  },
  {
   "cell_type": "code",
   "execution_count": 5,
   "metadata": {},
   "outputs": [
    {
     "data": {
      "text/plain": [
       "3"
      ]
     },
     "execution_count": 5,
     "metadata": {},
     "output_type": "execute_result"
    }
   ],
   "source": [
    "7//2"
   ]
  },
  {
   "cell_type": "code",
   "execution_count": null,
   "metadata": {},
   "outputs": [],
   "source": [
    "n = 7\n",
    "result = [[0 for i in range(n)] for j in range(n)]# n*n 2차원 리스트\n",
    "\n",
    "시작\n",
    "row = 7//2\n",
    "col = 7//2\n",
    "num = 1\n",
    "result[row][col] = num\n",
    "\n",
    "result[row-1][col] = 2 위\n",
    "result[row-1][col+1] = 3 오\n",
    "result[row-1+1][col+1] = 4 아\n",
    "result[row-1+1+1][col+1] = 5 아\n",
    "result[row-1+1+1][col+1-1] = 6 왼\n",
    "result[row-1+1+1][col+1-1-1] = 7 왼\n",
    "result[row-1+1+1-1][col+1-1-1] = 8 위\n",
    "result[row-1+1+1-1-1][col+1-1-1] = 9 위\n",
    "\n",
    "dr = [0, 1, 0, -1]\n",
    "dc = [1, 0, -1, 0]\n",
    "\n",
    "d = 0\n",
    "while True:\n",
    "    for i in range(4): # 4개 방향 순회\n",
    "        for _ in range(d):\n",
    "            \n",
    "\n",
    "\n"
   ]
  },
  {
   "cell_type": "code",
   "execution_count": 6,
   "metadata": {},
   "outputs": [
    {
     "name": "stdout",
     "output_type": "stream",
     "text": [
      "49 26 27 28 29 30 31\n",
      "48 25 10 11 12 13 32\n",
      "47 24 9 2 3 14 33\n",
      "46 23 8 1 4 15 34\n",
      "45 22 7 6 5 16 35\n",
      "44 21 20 19 18 17 36\n",
      "43 42 41 40 39 38 37\n",
      "5 3\n"
     ]
    }
   ],
   "source": [
    "n = 7\n",
    "m = 7\n",
    "board = [[0 for _ in range(n)] for _ in range(n)]\n",
    "\n",
    "dr = [0, 1, 0, -1] # 오른쪽, 아래쪽, 왼쪽, 위쪽 순서\n",
    "dc = [1, 0, -1, 0]\n",
    "\n",
    "r = n//2  # 시작 row\n",
    "c = n//2  # 시작 column\n",
    "num = 1  # 해당 위치에 들어갈 숫자 1씩 증가 예정\n",
    "len = 0  # 특정 방향으로 이동할 길이 얼마나 더할 것인가. for 문으로 동일 작업 수행 가능.\n",
    "\n",
    "board[r][c] = num\n",
    "\n",
    "while True:\n",
    "    for i in range(4):\n",
    "        for _ in range(len):  # 특정 방향으로 한칸씩 이동하며 숫자 입력\n",
    "            r+=dr[i]\n",
    "            c+=dc[i]\n",
    "            num+=1\n",
    "            board[r][c]=num\n",
    "            if num==m:  # 찾을 번호의 인덱스 저장\n",
    "                ans = [r+1, c+1]\n",
    "\n",
    "    if r==c==0:\n",
    "        break\n",
    "    r -= 1\n",
    "    c -= 1\n",
    "    len += 2\n",
    "\n",
    "for i in range(n):\n",
    "    print(*board[i])\n",
    "print(*ans)"
   ]
  },
  {
   "cell_type": "code",
   "execution_count": null,
   "metadata": {},
   "outputs": [],
   "source": [
    "words = '(H)2(O)'\n",
    "basket1 = []\n",
    "basket2 = []\n",
    "basket_cnt = 0\n",
    "basket_num = 0\n",
    "# if '(' == char:\n",
    "#     cnt +=1\n",
    "ans = 0\n",
    "d = {'H' : 1, 'C' : 12, 'O' : 16}\n",
    "\n",
    "for char in words:\n",
    "    if basket_cnt == 0:\n",
    "        if 'H' == char:\n",
    "            basket1.append(1)\n",
    "        if 'C' == char:\n",
    "            basket1.append(12)\n",
    "        if 'O' == char:\n",
    "            basket1.append(16)\n",
    "        if char.isdigit():\n",
    "            ans += basket1.pop() * int(char)\n",
    "        if '(' == char :\n",
    "            basket_cnt += 1\n",
    "    else:\n",
    "        if '(' == char :\n",
    "            basket_cnt += 1\n",
    "        if 'H' == char:\n",
    "            basket_num += 1\n",
    "            \n",
    "\n",
    "\n",
    "    \n",
    "\n",
    "\n",
    "\n"
   ]
  },
  {
   "cell_type": "code",
   "execution_count": 42,
   "metadata": {},
   "outputs": [
    {
     "ename": "ValueError",
     "evalue": "not enough values to unpack (expected 3, got 0)",
     "output_type": "error",
     "traceback": [
      "\u001b[0;31m---------------------------------------------------------------------------\u001b[0m",
      "\u001b[0;31mValueError\u001b[0m                                Traceback (most recent call last)",
      "Cell \u001b[0;32mIn[42], line 14\u001b[0m\n\u001b[1;32m      4\u001b[0m rank \u001b[39m=\u001b[39m [\u001b[39m100\u001b[39m, \u001b[39m90\u001b[39m, \u001b[39m80\u001b[39m] \u001b[39m# N개\u001b[39;00m\n\u001b[1;32m      6\u001b[0m \u001b[39m# N = 10\u001b[39;00m\n\u001b[1;32m      7\u001b[0m \u001b[39m# new_score = 1\u001b[39;00m\n\u001b[1;32m      8\u001b[0m \u001b[39m# P = 10\u001b[39;00m\n\u001b[0;32m   (...)\u001b[0m\n\u001b[1;32m     11\u001b[0m \n\u001b[1;32m     12\u001b[0m \u001b[39m# N = (input())\u001b[39;00m\n\u001b[0;32m---> 14\u001b[0m N, new_score, P \u001b[39m=\u001b[39m \u001b[39mmap\u001b[39m(\u001b[39mint\u001b[39m, \u001b[39minput\u001b[39m()\u001b[39m.\u001b[39msplit())\n\u001b[1;32m     15\u001b[0m \u001b[39mif\u001b[39;00m N \u001b[39m>\u001b[39m \u001b[39m0\u001b[39m:\n\u001b[1;32m     16\u001b[0m     rank \u001b[39m=\u001b[39m \u001b[39mlist\u001b[39m(\u001b[39mmap\u001b[39m(\u001b[39mint\u001b[39m, \u001b[39minput\u001b[39m()\u001b[39m.\u001b[39msplit()))\n",
      "\u001b[0;31mValueError\u001b[0m: not enough values to unpack (expected 3, got 0)"
     ]
    }
   ],
   "source": [
    "N = 3\n",
    "new_score = 90\n",
    "P = 3 # 10=< 50>=\n",
    "rank = [100, 90, 80] # N개\n",
    "\n",
    "# N = 10\n",
    "# new_score = 1\n",
    "# P = 10\n",
    "# rank = [10, 9, 8, 7, 6, 5, 4, 3, 2, 1]\n",
    "\n",
    "\n",
    "# N = (input())\n",
    "\n",
    "N, new_score, P = map(int, input().split())\n",
    "if N > 0:\n",
    "    rank = list(map(int, input().split()))\n",
    "    idx = 0\n",
    "    idx2 = -1\n",
    "    flag = 0\n",
    "    while True:\n",
    "        if idx >= P:\n",
    "            print(-1)\n",
    "            break\n",
    "        elif idx < N and rank[idx] >= new_score:\n",
    "            if flag == 0 and rank[idx] == new_score:\n",
    "                idx2 = idx\n",
    "                flag = 1\n",
    "            idx += 1\n",
    "            # ans += 1\n",
    "\n",
    "        elif idx2 != -1:\n",
    "            print(idx2+1)\n",
    "            break\n",
    "        else:\n",
    "            print(idx+1)\n",
    "            break\n",
    "\n",
    "else:\n",
    "    print(1)\n",
    "\n",
    "\n",
    "# sorted_rank = \n",
    "\n",
    "# ans = 0\n",
    "\n",
    "    "
   ]
  },
  {
   "cell_type": "code",
   "execution_count": 24,
   "metadata": {},
   "outputs": [
    {
     "data": {
      "text/plain": [
       "[100, 90, 80]"
      ]
     },
     "execution_count": 24,
     "metadata": {},
     "output_type": "execute_result"
    }
   ],
   "source": [
    "sorted_rank"
   ]
  },
  {
   "cell_type": "code",
   "execution_count": 36,
   "metadata": {},
   "outputs": [
    {
     "name": "stdout",
     "output_type": "stream",
     "text": [
      "18\n"
     ]
    }
   ],
   "source": [
    "N = int(input())\n",
    "dp = [x for x in map(int, input().split(' '))]\n",
    "# price = [0] + dp\n",
    "dp = [0] + dp\n",
    "\n",
    "\n",
    "for i in range(2, N+1):\n",
    "    if i % 2 == 0:\n",
    "        dp[i] = max(dp[i], dp[i-2]+price[2], dp[i-1]+ price[1], dp[i//2]*2)\n",
    "    else: # 홀수\n",
    "        dp[i] = max(dp[i], dp[i-1]+dp[1])\n",
    "\n",
    "print(dp[N])\n",
    "# 테케는 맞는데 틀림..."
   ]
  },
  {
   "cell_type": "code",
   "execution_count": 49,
   "metadata": {},
   "outputs": [
    {
     "ename": "KeyboardInterrupt",
     "evalue": "",
     "output_type": "error",
     "traceback": [
      "\u001b[0;31m---------------------------------------------------------------------------\u001b[0m",
      "\u001b[0;31mKeyboardInterrupt\u001b[0m                         Traceback (most recent call last)",
      "Cell \u001b[0;32mIn[49], line 2\u001b[0m\n\u001b[1;32m      1\u001b[0m \u001b[39mimport\u001b[39;00m \u001b[39msys\u001b[39;00m\n\u001b[0;32m----> 2\u001b[0m N \u001b[39m=\u001b[39m \u001b[39mint\u001b[39m(sys\u001b[39m.\u001b[39;49mstdin\u001b[39m.\u001b[39;49mreadline())\n\u001b[1;32m      3\u001b[0m data \u001b[39m=\u001b[39m [\u001b[39mint\u001b[39m(x) \u001b[39mfor\u001b[39;00m x \u001b[39min\u001b[39;00m \u001b[39mstr\u001b[39m(sys\u001b[39m.\u001b[39mstdin\u001b[39m.\u001b[39mreadline())\u001b[39m.\u001b[39msplit(\u001b[39m'\u001b[39m\u001b[39m \u001b[39m\u001b[39m'\u001b[39m)]\n\u001b[1;32m      4\u001b[0m price \u001b[39m=\u001b[39m [\u001b[39m0\u001b[39m] \u001b[39m+\u001b[39m data \u001b[39m# 카드별 금액\u001b[39;00m\n",
      "\u001b[0;31mKeyboardInterrupt\u001b[0m: "
     ]
    }
   ],
   "source": [
    "import sys\n",
    "N = int(sys.stdin.readline())\n",
    "data = [int(x) for x in str(sys.stdin.readline()).split(' ')]\n",
    "price = [0] + data # 카드별 금액\n",
    "dp = [0] * (N+1) # 최댓값 리스트\n",
    "\n",
    "\n",
    "for i in range(1, N+1):\n",
    "    for j in range(1, i+1):\n",
    "        dp[i] = max(dp[i-j]+price[j], dp[i])\n",
    "\n",
    "print(dp[N])"
   ]
  },
  {
   "cell_type": "code",
   "execution_count": 50,
   "metadata": {},
   "outputs": [],
   "source": [
    "d = [0] * 4"
   ]
  },
  {
   "cell_type": "code",
   "execution_count": 51,
   "metadata": {},
   "outputs": [
    {
     "data": {
      "text/plain": [
       "[0, 0, 0, 0]"
      ]
     },
     "execution_count": 51,
     "metadata": {},
     "output_type": "execute_result"
    }
   ],
   "source": [
    "d"
   ]
  },
  {
   "cell_type": "code",
   "execution_count": null,
   "metadata": {},
   "outputs": [],
   "source": [
    "\n",
    "dp[1] = 1\n",
    "dp[2] = 1+1, 5\n",
    "dp[3] = 1+1+1, 5+1, 6\n",
    "dp[4] = 1+1+1+1, 5+1+1, 5+5, 6+1, 7\n",
    "\n",
    "dp[6] = dp[4] + dp[2]"
   ]
  },
  {
   "cell_type": "code",
   "execution_count": 1,
   "metadata": {},
   "outputs": [
    {
     "ename": "NameError",
     "evalue": "name 'cnt' is not defined",
     "output_type": "error",
     "traceback": [
      "\u001b[0;31m---------------------------------------------------------------------------\u001b[0m",
      "\u001b[0;31mNameError\u001b[0m                                 Traceback (most recent call last)",
      "Cell \u001b[0;32mIn[1], line 6\u001b[0m\n\u001b[1;32m      4\u001b[0m ans \u001b[39m=\u001b[39m []\n\u001b[1;32m      5\u001b[0m name_counter \u001b[39m=\u001b[39m Counter(name)\n\u001b[0;32m----> 6\u001b[0m \u001b[39mprint\u001b[39m(cnt)\n\u001b[1;32m      7\u001b[0m \u001b[39mif\u001b[39;00m \u001b[39mlen\u001b[39m(name) \u001b[39m%\u001b[39m \u001b[39m2\u001b[39m \u001b[39m==\u001b[39m \u001b[39m0\u001b[39m: \u001b[39m# 짝수개임\u001b[39;00m\n\u001b[1;32m      8\u001b[0m     \u001b[39mfor\u001b[39;00m char, cnt \u001b[39min\u001b[39;00m name_counter\u001b[39m.\u001b[39mitems():\n",
      "\u001b[0;31mNameError\u001b[0m: name 'cnt' is not defined"
     ]
    }
   ],
   "source": [
    "# import sys\n",
    "from collections import Counter\n",
    "name = ['A', 'A', 'B', 'B']#list(str(sys.stdin.readline()))\n",
    "ans = []\n",
    "name_counter = Counter(name)\n",
    "print(name_counter)\n",
    "if len(name) % 2 == 0: # 짝수개임\n",
    "    for char, cnt in name_counter.items():\n",
    "        if cnt % 2 != 0: # 홀수개가 있다\n",
    "            print(\"I'm Sorry Hansoo\")\n",
    "            break"
   ]
  },
  {
   "cell_type": "code",
   "execution_count": null,
   "metadata": {},
   "outputs": [],
   "source": []
  }
 ],
 "metadata": {
  "kernelspec": {
   "display_name": "pytorchkernel",
   "language": "python",
   "name": "pytorch"
  },
  "language_info": {
   "codemirror_mode": {
    "name": "ipython",
    "version": 3
   },
   "file_extension": ".py",
   "mimetype": "text/x-python",
   "name": "python",
   "nbconvert_exporter": "python",
   "pygments_lexer": "ipython3",
   "version": "3.8.16"
  },
  "orig_nbformat": 4
 },
 "nbformat": 4,
 "nbformat_minor": 2
}
